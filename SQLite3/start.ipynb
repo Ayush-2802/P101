{
 "cells": [
  {
   "cell_type": "code",
   "execution_count": 18,
   "id": "9feb284a",
   "metadata": {},
   "outputs": [],
   "source": [
    "import sqlite3"
   ]
  },
  {
   "cell_type": "code",
   "execution_count": 19,
   "id": "c02581bc",
   "metadata": {},
   "outputs": [
    {
     "data": {
      "text/plain": [
       "<sqlite3.Connection at 0x107e9ae40>"
      ]
     },
     "execution_count": 19,
     "metadata": {},
     "output_type": "execute_result"
    }
   ],
   "source": [
    "# creating and connectin data base\n",
    "connection = sqlite3.connect(\"test.db\")\n",
    "connection"
   ]
  },
  {
   "cell_type": "code",
   "execution_count": 20,
   "id": "56d4fc74",
   "metadata": {},
   "outputs": [],
   "source": [
    "cursor = connection.cursor()"
   ]
  },
  {
   "cell_type": "code",
   "execution_count": 21,
   "id": "1a35af1c",
   "metadata": {},
   "outputs": [],
   "source": [
    "# crete table\n",
    "\n",
    "cursor.execute('''\n",
    "Create Table If Not Exists employees(\n",
    "    id Integer Primary key,\n",
    "    name Text Not Null,\n",
    "    age Integer,\n",
    "    department Text\n",
    "    )\n",
    "''')\n",
    "\n",
    "# commititng the changes\n",
    "connection.commit()"
   ]
  },
  {
   "cell_type": "code",
   "execution_count": 22,
   "id": "957ba38f",
   "metadata": {},
   "outputs": [
    {
     "data": {
      "text/plain": [
       "<sqlite3.Cursor at 0x107f0dc00>"
      ]
     },
     "execution_count": 22,
     "metadata": {},
     "output_type": "execute_result"
    }
   ],
   "source": [
    "cursor.execute('''\n",
    "Select * from employees\n",
    "''')"
   ]
  },
  {
   "cell_type": "code",
   "execution_count": 23,
   "id": "c76f4c3a",
   "metadata": {},
   "outputs": [],
   "source": [
    "# inserting data \n",
    "\n",
    "cursor.execute('''\n",
    "Insert into employees('name','age','department')\n",
    "VALUES('ayush','21','ML Engineer')\n",
    "''')\n",
    "\n",
    "cursor.execute('''\n",
    "Insert into employees('name','age','department')\n",
    "VALUES('bob','21','Sales')\n",
    "''')\n",
    "\n",
    "cursor.execute('''\n",
    "Insert into employees('name','age','department')\n",
    "VALUES('charlie','21','Finance')\n",
    "''')\n",
    "\n",
    "# commit\n",
    "connection.commit()"
   ]
  },
  {
   "cell_type": "code",
   "execution_count": 27,
   "id": "0fc43223",
   "metadata": {},
   "outputs": [],
   "source": [
    "# data querring\n",
    "\n",
    "cursor.execute('''\n",
    "Select * from employees\n",
    "''')\n",
    "\n",
    "rows = cursor.fetchall()"
   ]
  },
  {
   "cell_type": "code",
   "execution_count": 28,
   "id": "1527828e",
   "metadata": {},
   "outputs": [
    {
     "name": "stdout",
     "output_type": "stream",
     "text": [
      "(1, 'ayush', 21, 'ML Engineer')\n",
      "(2, 'bob', 21, 'Sales')\n",
      "(3, 'charlie', 21, 'Finance')\n"
     ]
    }
   ],
   "source": [
    "#printing data\n",
    "\n",
    "for row in rows:\n",
    "    print(row)"
   ]
  },
  {
   "cell_type": "code",
   "execution_count": 33,
   "id": "c7bd8794",
   "metadata": {},
   "outputs": [],
   "source": [
    "# updateing data\n",
    "\n",
    "cursor.execute('''\n",
    "Update employees\n",
    "Set age = 21 \n",
    "WHERE name = 'ayush'\n",
    "''')\n",
    "\n",
    "connection.commit()"
   ]
  },
  {
   "cell_type": "code",
   "execution_count": 35,
   "id": "52fd3d4c",
   "metadata": {},
   "outputs": [],
   "source": [
    "#delete data\n",
    "\n",
    "cursor.execute('''\n",
    "Delete from employees\n",
    "Where name = \"bob\"\n",
    "''')\n",
    "\n",
    "connection.commit()"
   ]
  },
  {
   "cell_type": "code",
   "execution_count": 36,
   "id": "4259f1e9",
   "metadata": {},
   "outputs": [
    {
     "name": "stdout",
     "output_type": "stream",
     "text": [
      "(1, 'ayush', 21, 'ML Engineer')\n",
      "(3, 'charlie', 21, 'Finance')\n"
     ]
    }
   ],
   "source": [
    "cursor.execute('Select * from employees')\n",
    "\n",
    "rows = cursor.fetchall()\n",
    "\n",
    "for i in rows:\n",
    "    print(i)"
   ]
  }
 ],
 "metadata": {
  "kernelspec": {
   "display_name": "P101",
   "language": "python",
   "name": "python3"
  },
  "language_info": {
   "codemirror_mode": {
    "name": "ipython",
    "version": 3
   },
   "file_extension": ".py",
   "mimetype": "text/x-python",
   "name": "python",
   "nbconvert_exporter": "python",
   "pygments_lexer": "ipython3",
   "version": "3.8.20"
  }
 },
 "nbformat": 4,
 "nbformat_minor": 5
}
