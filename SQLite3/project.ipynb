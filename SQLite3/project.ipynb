{
 "cells": [
  {
   "cell_type": "code",
   "execution_count": 1,
   "id": "f6e6424e",
   "metadata": {},
   "outputs": [],
   "source": [
    "import sqlite3"
   ]
  },
  {
   "cell_type": "code",
   "execution_count": 8,
   "id": "c7c76bc2",
   "metadata": {},
   "outputs": [],
   "source": [
    "connection = sqlite3.connect(\"sales.db\")\n",
    "cursor = connection.cursor()\n",
    "\n",
    "# create table for sales data\n",
    "\n",
    "cursor.execute('''\n",
    "Create Table If Not Exists sales(\n",
    "    id Integer Primary Key,\n",
    "    date text Not Null,\n",
    "    product Text Not Null,\n",
    "    sales Integer,\n",
    "    region Text\n",
    "    )\n",
    "''')\n",
    "\n",
    "sales_data = [\n",
    "    ('2025-01-01','product1',100,'north'),\n",
    "    ('2025-01-02','product2',200,'south'),\n",
    "    ('2025-01-03','product1',150,'east'),\n",
    "    ('2025-01-04','product3',250,'west'),\n",
    "    ('2025-01-05','product2',250,'north')\n",
    "]\n",
    "\n",
    "cursor.executemany('''\n",
    "Insert into sales('date','product','sales','region')\n",
    "                   values(?,?,?,?)\n",
    "''',sales_data)\n",
    "\n",
    "connection.commit()"
   ]
  },
  {
   "cell_type": "code",
   "execution_count": null,
   "id": "0a7eb112",
   "metadata": {},
   "outputs": [
    {
     "name": "stdout",
     "output_type": "stream",
     "text": [
      "(1, '2025-01-01', 'product1', 100, 'north')\n",
      "(2, '2025-01-02', 'product2', 200, 'south')\n",
      "(3, '2025-01-03', 'product1', 150, 'east')\n",
      "(4, '2025-01-04', 'product3', 250, 'west')\n",
      "(5, '2025-01-05', 'product2', 250, 'north')\n"
     ]
    }
   ],
   "source": [
    "cursor.execute('Select * from sales')\n",
    "rows = cursor.fetchall()\n",
    "\n",
    "for r in rows:\n",
    "    print(r)"
   ]
  },
  {
   "cell_type": "code",
   "execution_count": 10,
   "id": "08de048d",
   "metadata": {},
   "outputs": [],
   "source": [
    "# closing connection\n",
    "\n",
    "connection.close()"
   ]
  },
  {
   "cell_type": "code",
   "execution_count": 11,
   "id": "8399a79c",
   "metadata": {},
   "outputs": [
    {
     "ename": "ProgrammingError",
     "evalue": "Cannot operate on a closed database.",
     "output_type": "error",
     "traceback": [
      "\u001b[0;31m---------------------------------------------------------------------------\u001b[0m",
      "\u001b[0;31mProgrammingError\u001b[0m                          Traceback (most recent call last)",
      "Cell \u001b[0;32mIn[11], line 1\u001b[0m\n\u001b[0;32m----> 1\u001b[0m \u001b[43mcursor\u001b[49m\u001b[38;5;241;43m.\u001b[39;49m\u001b[43mexecute\u001b[49m\u001b[43m(\u001b[49m\u001b[38;5;124;43m'\u001b[39;49m\u001b[38;5;124;43mSelect * from sales\u001b[39;49m\u001b[38;5;124;43m'\u001b[39;49m\u001b[43m)\u001b[49m\n\u001b[1;32m      2\u001b[0m rows \u001b[38;5;241m=\u001b[39m cursor\u001b[38;5;241m.\u001b[39mfetchall()\n\u001b[1;32m      4\u001b[0m \u001b[38;5;28;01mfor\u001b[39;00m r \u001b[38;5;129;01min\u001b[39;00m rows:\n",
      "\u001b[0;31mProgrammingError\u001b[0m: Cannot operate on a closed database."
     ]
    }
   ],
   "source": [
    "cursor.execute('Select * from sales')\n",
    "rows = cursor.fetchall()\n",
    "\n",
    "for r in rows:\n",
    "    print(r)"
   ]
  }
 ],
 "metadata": {
  "kernelspec": {
   "display_name": "P101",
   "language": "python",
   "name": "python3"
  },
  "language_info": {
   "codemirror_mode": {
    "name": "ipython",
    "version": 3
   },
   "file_extension": ".py",
   "mimetype": "text/x-python",
   "name": "python",
   "nbconvert_exporter": "python",
   "pygments_lexer": "ipython3",
   "version": "3.8.20"
  }
 },
 "nbformat": 4,
 "nbformat_minor": 5
}
